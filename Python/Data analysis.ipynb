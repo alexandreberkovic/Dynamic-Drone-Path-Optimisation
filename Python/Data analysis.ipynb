{
 "metadata": {
  "language_info": {
   "codemirror_mode": {
    "name": "ipython",
    "version": 3
   },
   "file_extension": ".py",
   "mimetype": "text/x-python",
   "name": "python",
   "nbconvert_exporter": "python",
   "pygments_lexer": "ipython3",
   "version": "3.8.1-final"
  },
  "orig_nbformat": 2,
  "kernelspec": {
   "name": "python3",
   "display_name": "Python 3"
  }
 },
 "nbformat": 4,
 "nbformat_minor": 2,
 "cells": [
  {
   "cell_type": "code",
   "execution_count": 1,
   "metadata": {},
   "outputs": [],
   "source": [
    "import pandas as pd\n",
    "import numpy as np\n",
    "import matplotlib.pyplot as plt"
   ]
  },
  {
   "cell_type": "code",
   "execution_count": 2,
   "metadata": {},
   "outputs": [],
   "source": [
    "df = pd.read_csv(\"dataset.csv\")"
   ]
  },
  {
   "cell_type": "code",
   "execution_count": 3,
   "metadata": {},
   "outputs": [
    {
     "output_type": "execute_result",
     "data": {
      "text/plain": [
       "   PWM     V     I    w\n",
       "0    0  12.6  0.21  0.0\n",
       "1    0  12.3  0.22  0.0"
      ],
      "text/html": "<div>\n<style scoped>\n    .dataframe tbody tr th:only-of-type {\n        vertical-align: middle;\n    }\n\n    .dataframe tbody tr th {\n        vertical-align: top;\n    }\n\n    .dataframe thead th {\n        text-align: right;\n    }\n</style>\n<table border=\"1\" class=\"dataframe\">\n  <thead>\n    <tr style=\"text-align: right;\">\n      <th></th>\n      <th>PWM</th>\n      <th>V</th>\n      <th>I</th>\n      <th>w</th>\n    </tr>\n  </thead>\n  <tbody>\n    <tr>\n      <th>0</th>\n      <td>0</td>\n      <td>12.6</td>\n      <td>0.21</td>\n      <td>0.0</td>\n    </tr>\n    <tr>\n      <th>1</th>\n      <td>0</td>\n      <td>12.3</td>\n      <td>0.22</td>\n      <td>0.0</td>\n    </tr>\n  </tbody>\n</table>\n</div>"
     },
     "metadata": {},
     "execution_count": 3
    }
   ],
   "source": [
    "df.head(2)"
   ]
  },
  {
   "cell_type": "code",
   "execution_count": 4,
   "metadata": {},
   "outputs": [],
   "source": [
    "v =  [12.6, 12.3, 12, 11.7, 11.4, 11.1, 10.8, 10.5, 10.2, 9.9]"
   ]
  },
  {
   "cell_type": "code",
   "execution_count": 23,
   "metadata": {},
   "outputs": [
    {
     "output_type": "execute_result",
     "data": {
      "text/plain": [
       "   PWM     V     I    w\n",
       "1    0  12.3  0.22  0.0\n",
       "2    0  12.0  0.22  0.0"
      ],
      "text/html": "<div>\n<style scoped>\n    .dataframe tbody tr th:only-of-type {\n        vertical-align: middle;\n    }\n\n    .dataframe tbody tr th {\n        vertical-align: top;\n    }\n\n    .dataframe thead th {\n        text-align: right;\n    }\n</style>\n<table border=\"1\" class=\"dataframe\">\n  <thead>\n    <tr style=\"text-align: right;\">\n      <th></th>\n      <th>PWM</th>\n      <th>V</th>\n      <th>I</th>\n      <th>w</th>\n    </tr>\n  </thead>\n  <tbody>\n    <tr>\n      <th>1</th>\n      <td>0</td>\n      <td>12.3</td>\n      <td>0.22</td>\n      <td>0.0</td>\n    </tr>\n    <tr>\n      <th>2</th>\n      <td>0</td>\n      <td>12.0</td>\n      <td>0.22</td>\n      <td>0.0</td>\n    </tr>\n  </tbody>\n</table>\n</div>"
     },
     "metadata": {},
     "execution_count": 23
    }
   ],
   "source": [
    "#To select rows whose column value is in list \n",
    "lst_V = [12,  12.3, 11.7]\n",
    "voltages = df[df.V.isin(lst_V)]\n",
    "voltages.head(2)"
   ]
  },
  {
   "cell_type": "code",
   "execution_count": 24,
   "metadata": {},
   "outputs": [
    {
     "output_type": "execute_result",
     "data": {
      "text/plain": [
       "<matplotlib.axes._subplots.AxesSubplot at 0x121c9d6a0>"
      ]
     },
     "metadata": {},
     "execution_count": 24
    },
    {
     "output_type": "display_data",
     "data": {
      "text/plain": "<Figure size 432x288 with 2 Axes>",
      "image/svg+xml": "<?xml version=\"1.0\" encoding=\"utf-8\" standalone=\"no\"?>\n<!DOCTYPE svg PUBLIC \"-//W3C//DTD SVG 1.1//EN\"\n  \"http://www.w3.org/Graphics/SVG/1.1/DTD/svg11.dtd\">\n<!-- Created with matplotlib (https://matplotlib.org/) -->\n<svg height=\"241.518125pt\" version=\"1.1\" viewBox=\"0 0 389.377 241.518125\" width=\"389.377pt\" xmlns=\"http://www.w3.org/2000/svg\" xmlns:xlink=\"http://www.w3.org/1999/xlink\">\n <defs>\n  <style type=\"text/css\">\n*{stroke-linecap:butt;stroke-linejoin:round;}\n  </style>\n </defs>\n <g id=\"figure_1\">\n  <g id=\"patch_1\">\n   <path d=\"M 0 241.518125 \nL 389.377 241.518125 \nL 389.377 0 \nL 0 0 \nz\n\" style=\"fill:none;\"/>\n  </g>\n  <g id=\"axes_1\">\n   <g id=\"patch_2\">\n    <path d=\"M 43.78125 228.439219 \nL 311.62125 228.439219 \nL 311.62125 10.999219 \nL 43.78125 10.999219 \nz\n\" style=\"fill:#ffffff;\"/>\n   </g>\n   <g id=\"PathCollection_1\">\n    <defs>\n     <path d=\"M 0 2.236068 \nC 0.593012 2.236068 1.161816 2.000462 1.581139 1.581139 \nC 2.000462 1.161816 2.236068 0.593012 2.236068 0 \nC 2.236068 -0.593012 2.000462 -1.161816 1.581139 -1.581139 \nC 1.161816 -2.000462 0.593012 -2.236068 0 -2.236068 \nC -0.593012 -2.236068 -1.161816 -2.000462 -1.581139 -1.581139 \nC -2.000462 -1.161816 -2.236068 -0.593012 -2.236068 0 \nC -2.236068 0.593012 -2.000462 1.161816 -1.581139 1.581139 \nC -1.161816 2.000462 -0.593012 2.236068 0 2.236068 \nz\n\" id=\"C0_0_3a7d594033\"/>\n    </defs>\n    <g clip-path=\"url(#pb35dd45225)\">\n     <use style=\"fill:#fde725;stroke:#fde725;\" x=\"55.955795\" xlink:href=\"#C0_0_3a7d594033\" y=\"218.555582\"/>\n    </g>\n    <g clip-path=\"url(#pb35dd45225)\">\n     <use style=\"fill:#21918c;stroke:#21918c;\" x=\"55.955795\" xlink:href=\"#C0_0_3a7d594033\" y=\"218.555582\"/>\n    </g>\n    <g clip-path=\"url(#pb35dd45225)\">\n     <use style=\"fill:#440154;stroke:#440154;\" x=\"55.955795\" xlink:href=\"#C0_0_3a7d594033\" y=\"217.980952\"/>\n    </g>\n    <g clip-path=\"url(#pb35dd45225)\">\n     <use style=\"fill:#fde725;stroke:#fde725;\" x=\"155.632146\" xlink:href=\"#C0_0_3a7d594033\" y=\"197.294272\"/>\n    </g>\n    <g clip-path=\"url(#pb35dd45225)\">\n     <use style=\"fill:#21918c;stroke:#21918c;\" x=\"155.632146\" xlink:href=\"#C0_0_3a7d594033\" y=\"196.145012\"/>\n    </g>\n    <g clip-path=\"url(#pb35dd45225)\">\n     <use style=\"fill:#440154;stroke:#440154;\" x=\"155.632146\" xlink:href=\"#C0_0_3a7d594033\" y=\"195.570382\"/>\n    </g>\n    <g clip-path=\"url(#pb35dd45225)\">\n     <use style=\"fill:#fde725;stroke:#fde725;\" x=\"209.708758\" xlink:href=\"#C0_0_3a7d594033\" y=\"158.21943\"/>\n    </g>\n    <g clip-path=\"url(#pb35dd45225)\">\n     <use style=\"fill:#21918c;stroke:#21918c;\" x=\"209.708758\" xlink:href=\"#C0_0_3a7d594033\" y=\"156.49554\"/>\n    </g>\n    <g clip-path=\"url(#pb35dd45225)\">\n     <use style=\"fill:#440154;stroke:#440154;\" x=\"209.660041\" xlink:href=\"#C0_0_3a7d594033\" y=\"155.34628\"/>\n    </g>\n    <g clip-path=\"url(#pb35dd45225)\">\n     <use style=\"fill:#fde725;stroke:#fde725;\" x=\"254.626449\" xlink:href=\"#C0_0_3a7d594033\" y=\"103.054948\"/>\n    </g>\n    <g clip-path=\"url(#pb35dd45225)\">\n     <use style=\"fill:#21918c;stroke:#21918c;\" x=\"254.675167\" xlink:href=\"#C0_0_3a7d594033\" y=\"103.629578\"/>\n    </g>\n    <g clip-path=\"url(#pb35dd45225)\">\n     <use style=\"fill:#440154;stroke:#440154;\" x=\"254.675167\" xlink:href=\"#C0_0_3a7d594033\" y=\"100.756428\"/>\n    </g>\n    <g clip-path=\"url(#pb35dd45225)\">\n     <use style=\"fill:#fde725;stroke:#fde725;\" x=\"281.226296\" xlink:href=\"#C0_0_3a7d594033\" y=\"57.659176\"/>\n    </g>\n    <g clip-path=\"url(#pb35dd45225)\">\n     <use style=\"fill:#21918c;stroke:#21918c;\" x=\"281.226296\" xlink:href=\"#C0_0_3a7d594033\" y=\"54.211396\"/>\n    </g>\n    <g clip-path=\"url(#pb35dd45225)\">\n     <use style=\"fill:#440154;stroke:#440154;\" x=\"281.177579\" xlink:href=\"#C0_0_3a7d594033\" y=\"51.912876\"/>\n    </g>\n    <g clip-path=\"url(#pb35dd45225)\">\n     <use style=\"fill:#fde725;stroke:#fde725;\" x=\"299.446705\" xlink:href=\"#C0_0_3a7d594033\" y=\"21.457485\"/>\n    </g>\n    <g clip-path=\"url(#pb35dd45225)\">\n     <use style=\"fill:#21918c;stroke:#21918c;\" x=\"297.936457\" xlink:href=\"#C0_0_3a7d594033\" y=\"20.882855\"/>\n    </g>\n    <g clip-path=\"url(#pb35dd45225)\">\n     <use style=\"fill:#440154;stroke:#440154;\" x=\"294.574938\" xlink:href=\"#C0_0_3a7d594033\" y=\"27.203785\"/>\n    </g>\n   </g>\n   <g id=\"matplotlib.axis_1\">\n    <g id=\"xtick_1\">\n     <g id=\"line2d_1\">\n      <defs>\n       <path d=\"M 0 0 \nL 0 3.5 \n\" id=\"md4faca52ad\" style=\"stroke:#000000;stroke-width:0.8;\"/>\n      </defs>\n      <g>\n       <use style=\"stroke:#000000;stroke-width:0.8;\" x=\"55.955795\" xlink:href=\"#md4faca52ad\" y=\"228.439219\"/>\n      </g>\n     </g>\n    </g>\n    <g id=\"xtick_2\">\n     <g id=\"line2d_2\">\n      <g>\n       <use style=\"stroke:#000000;stroke-width:0.8;\" x=\"104.673464\" xlink:href=\"#md4faca52ad\" y=\"228.439219\"/>\n      </g>\n     </g>\n    </g>\n    <g id=\"xtick_3\">\n     <g id=\"line2d_3\">\n      <g>\n       <use style=\"stroke:#000000;stroke-width:0.8;\" x=\"153.391133\" xlink:href=\"#md4faca52ad\" y=\"228.439219\"/>\n      </g>\n     </g>\n    </g>\n    <g id=\"xtick_4\">\n     <g id=\"line2d_4\">\n      <g>\n       <use style=\"stroke:#000000;stroke-width:0.8;\" x=\"202.108802\" xlink:href=\"#md4faca52ad\" y=\"228.439219\"/>\n      </g>\n     </g>\n    </g>\n    <g id=\"xtick_5\">\n     <g id=\"line2d_5\">\n      <g>\n       <use style=\"stroke:#000000;stroke-width:0.8;\" x=\"250.826471\" xlink:href=\"#md4faca52ad\" y=\"228.439219\"/>\n      </g>\n     </g>\n    </g>\n    <g id=\"xtick_6\">\n     <g id=\"line2d_6\">\n      <g>\n       <use style=\"stroke:#000000;stroke-width:0.8;\" x=\"299.54414\" xlink:href=\"#md4faca52ad\" y=\"228.439219\"/>\n      </g>\n     </g>\n    </g>\n   </g>\n   <g id=\"matplotlib.axis_2\">\n    <g id=\"ytick_1\">\n     <g id=\"line2d_7\">\n      <defs>\n       <path d=\"M 0 0 \nL -3.5 0 \n\" id=\"m304ff4205e\" style=\"stroke:#000000;stroke-width:0.8;\"/>\n      </defs>\n      <g>\n       <use style=\"stroke:#000000;stroke-width:0.8;\" x=\"43.78125\" xlink:href=\"#m304ff4205e\" y=\"202.465942\"/>\n      </g>\n     </g>\n     <g id=\"text_1\">\n      <!-- 0.5 -->\n      <defs>\n       <path d=\"M 31.78125 66.40625 \nQ 24.171875 66.40625 20.328125 58.90625 \nQ 16.5 51.421875 16.5 36.375 \nQ 16.5 21.390625 20.328125 13.890625 \nQ 24.171875 6.390625 31.78125 6.390625 \nQ 39.453125 6.390625 43.28125 13.890625 \nQ 47.125 21.390625 47.125 36.375 \nQ 47.125 51.421875 43.28125 58.90625 \nQ 39.453125 66.40625 31.78125 66.40625 \nz\nM 31.78125 74.21875 \nQ 44.046875 74.21875 50.515625 64.515625 \nQ 56.984375 54.828125 56.984375 36.375 \nQ 56.984375 17.96875 50.515625 8.265625 \nQ 44.046875 -1.421875 31.78125 -1.421875 \nQ 19.53125 -1.421875 13.0625 8.265625 \nQ 6.59375 17.96875 6.59375 36.375 \nQ 6.59375 54.828125 13.0625 64.515625 \nQ 19.53125 74.21875 31.78125 74.21875 \nz\n\" id=\"DejaVuSans-48\"/>\n       <path d=\"M 10.6875 12.40625 \nL 21 12.40625 \nL 21 0 \nL 10.6875 0 \nz\n\" id=\"DejaVuSans-46\"/>\n       <path d=\"M 10.796875 72.90625 \nL 49.515625 72.90625 \nL 49.515625 64.59375 \nL 19.828125 64.59375 \nL 19.828125 46.734375 \nQ 21.96875 47.46875 24.109375 47.828125 \nQ 26.265625 48.1875 28.421875 48.1875 \nQ 40.625 48.1875 47.75 41.5 \nQ 54.890625 34.8125 54.890625 23.390625 \nQ 54.890625 11.625 47.5625 5.09375 \nQ 40.234375 -1.421875 26.90625 -1.421875 \nQ 22.3125 -1.421875 17.546875 -0.640625 \nQ 12.796875 0.140625 7.71875 1.703125 \nL 7.71875 11.625 \nQ 12.109375 9.234375 16.796875 8.0625 \nQ 21.484375 6.890625 26.703125 6.890625 \nQ 35.15625 6.890625 40.078125 11.328125 \nQ 45.015625 15.765625 45.015625 23.390625 \nQ 45.015625 31 40.078125 35.4375 \nQ 35.15625 39.890625 26.703125 39.890625 \nQ 22.75 39.890625 18.8125 39.015625 \nQ 14.890625 38.140625 10.796875 36.28125 \nz\n\" id=\"DejaVuSans-53\"/>\n      </defs>\n      <g transform=\"translate(20.878125 206.265161)scale(0.1 -0.1)\">\n       <use xlink:href=\"#DejaVuSans-48\"/>\n       <use x=\"63.623047\" xlink:href=\"#DejaVuSans-46\"/>\n       <use x=\"95.410156\" xlink:href=\"#DejaVuSans-53\"/>\n      </g>\n     </g>\n    </g>\n    <g id=\"ytick_2\">\n     <g id=\"line2d_8\">\n      <g>\n       <use style=\"stroke:#000000;stroke-width:0.8;\" x=\"43.78125\" xlink:href=\"#m304ff4205e\" y=\"173.734441\"/>\n      </g>\n     </g>\n     <g id=\"text_2\">\n      <!-- 1.0 -->\n      <defs>\n       <path d=\"M 12.40625 8.296875 \nL 28.515625 8.296875 \nL 28.515625 63.921875 \nL 10.984375 60.40625 \nL 10.984375 69.390625 \nL 28.421875 72.90625 \nL 38.28125 72.90625 \nL 38.28125 8.296875 \nL 54.390625 8.296875 \nL 54.390625 0 \nL 12.40625 0 \nz\n\" id=\"DejaVuSans-49\"/>\n      </defs>\n      <g transform=\"translate(20.878125 177.533659)scale(0.1 -0.1)\">\n       <use xlink:href=\"#DejaVuSans-49\"/>\n       <use x=\"63.623047\" xlink:href=\"#DejaVuSans-46\"/>\n       <use x=\"95.410156\" xlink:href=\"#DejaVuSans-48\"/>\n      </g>\n     </g>\n    </g>\n    <g id=\"ytick_3\">\n     <g id=\"line2d_9\">\n      <g>\n       <use style=\"stroke:#000000;stroke-width:0.8;\" x=\"43.78125\" xlink:href=\"#m304ff4205e\" y=\"145.00294\"/>\n      </g>\n     </g>\n     <g id=\"text_3\">\n      <!-- 1.5 -->\n      <g transform=\"translate(20.878125 148.802158)scale(0.1 -0.1)\">\n       <use xlink:href=\"#DejaVuSans-49\"/>\n       <use x=\"63.623047\" xlink:href=\"#DejaVuSans-46\"/>\n       <use x=\"95.410156\" xlink:href=\"#DejaVuSans-53\"/>\n      </g>\n     </g>\n    </g>\n    <g id=\"ytick_4\">\n     <g id=\"line2d_10\">\n      <g>\n       <use style=\"stroke:#000000;stroke-width:0.8;\" x=\"43.78125\" xlink:href=\"#m304ff4205e\" y=\"116.271439\"/>\n      </g>\n     </g>\n     <g id=\"text_4\">\n      <!-- 2.0 -->\n      <defs>\n       <path d=\"M 19.1875 8.296875 \nL 53.609375 8.296875 \nL 53.609375 0 \nL 7.328125 0 \nL 7.328125 8.296875 \nQ 12.9375 14.109375 22.625 23.890625 \nQ 32.328125 33.6875 34.8125 36.53125 \nQ 39.546875 41.84375 41.421875 45.53125 \nQ 43.3125 49.21875 43.3125 52.78125 \nQ 43.3125 58.59375 39.234375 62.25 \nQ 35.15625 65.921875 28.609375 65.921875 \nQ 23.96875 65.921875 18.8125 64.3125 \nQ 13.671875 62.703125 7.8125 59.421875 \nL 7.8125 69.390625 \nQ 13.765625 71.78125 18.9375 73 \nQ 24.125 74.21875 28.421875 74.21875 \nQ 39.75 74.21875 46.484375 68.546875 \nQ 53.21875 62.890625 53.21875 53.421875 \nQ 53.21875 48.921875 51.53125 44.890625 \nQ 49.859375 40.875 45.40625 35.40625 \nQ 44.1875 33.984375 37.640625 27.21875 \nQ 31.109375 20.453125 19.1875 8.296875 \nz\n\" id=\"DejaVuSans-50\"/>\n      </defs>\n      <g transform=\"translate(20.878125 120.070657)scale(0.1 -0.1)\">\n       <use xlink:href=\"#DejaVuSans-50\"/>\n       <use x=\"63.623047\" xlink:href=\"#DejaVuSans-46\"/>\n       <use x=\"95.410156\" xlink:href=\"#DejaVuSans-48\"/>\n      </g>\n     </g>\n    </g>\n    <g id=\"ytick_5\">\n     <g id=\"line2d_11\">\n      <g>\n       <use style=\"stroke:#000000;stroke-width:0.8;\" x=\"43.78125\" xlink:href=\"#m304ff4205e\" y=\"87.539938\"/>\n      </g>\n     </g>\n     <g id=\"text_5\">\n      <!-- 2.5 -->\n      <g transform=\"translate(20.878125 91.339156)scale(0.1 -0.1)\">\n       <use xlink:href=\"#DejaVuSans-50\"/>\n       <use x=\"63.623047\" xlink:href=\"#DejaVuSans-46\"/>\n       <use x=\"95.410156\" xlink:href=\"#DejaVuSans-53\"/>\n      </g>\n     </g>\n    </g>\n    <g id=\"ytick_6\">\n     <g id=\"line2d_12\">\n      <g>\n       <use style=\"stroke:#000000;stroke-width:0.8;\" x=\"43.78125\" xlink:href=\"#m304ff4205e\" y=\"58.808437\"/>\n      </g>\n     </g>\n     <g id=\"text_6\">\n      <!-- 3.0 -->\n      <defs>\n       <path d=\"M 40.578125 39.3125 \nQ 47.65625 37.796875 51.625 33 \nQ 55.609375 28.21875 55.609375 21.1875 \nQ 55.609375 10.40625 48.1875 4.484375 \nQ 40.765625 -1.421875 27.09375 -1.421875 \nQ 22.515625 -1.421875 17.65625 -0.515625 \nQ 12.796875 0.390625 7.625 2.203125 \nL 7.625 11.71875 \nQ 11.71875 9.328125 16.59375 8.109375 \nQ 21.484375 6.890625 26.8125 6.890625 \nQ 36.078125 6.890625 40.9375 10.546875 \nQ 45.796875 14.203125 45.796875 21.1875 \nQ 45.796875 27.640625 41.28125 31.265625 \nQ 36.765625 34.90625 28.71875 34.90625 \nL 20.21875 34.90625 \nL 20.21875 43.015625 \nL 29.109375 43.015625 \nQ 36.375 43.015625 40.234375 45.921875 \nQ 44.09375 48.828125 44.09375 54.296875 \nQ 44.09375 59.90625 40.109375 62.90625 \nQ 36.140625 65.921875 28.71875 65.921875 \nQ 24.65625 65.921875 20.015625 65.03125 \nQ 15.375 64.15625 9.8125 62.3125 \nL 9.8125 71.09375 \nQ 15.4375 72.65625 20.34375 73.4375 \nQ 25.25 74.21875 29.59375 74.21875 \nQ 40.828125 74.21875 47.359375 69.109375 \nQ 53.90625 64.015625 53.90625 55.328125 \nQ 53.90625 49.265625 50.4375 45.09375 \nQ 46.96875 40.921875 40.578125 39.3125 \nz\n\" id=\"DejaVuSans-51\"/>\n      </defs>\n      <g transform=\"translate(20.878125 62.607655)scale(0.1 -0.1)\">\n       <use xlink:href=\"#DejaVuSans-51\"/>\n       <use x=\"63.623047\" xlink:href=\"#DejaVuSans-46\"/>\n       <use x=\"95.410156\" xlink:href=\"#DejaVuSans-48\"/>\n      </g>\n     </g>\n    </g>\n    <g id=\"ytick_7\">\n     <g id=\"line2d_13\">\n      <g>\n       <use style=\"stroke:#000000;stroke-width:0.8;\" x=\"43.78125\" xlink:href=\"#m304ff4205e\" y=\"30.076935\"/>\n      </g>\n     </g>\n     <g id=\"text_7\">\n      <!-- 3.5 -->\n      <g transform=\"translate(20.878125 33.876154)scale(0.1 -0.1)\">\n       <use xlink:href=\"#DejaVuSans-51\"/>\n       <use x=\"63.623047\" xlink:href=\"#DejaVuSans-46\"/>\n       <use x=\"95.410156\" xlink:href=\"#DejaVuSans-53\"/>\n      </g>\n     </g>\n    </g>\n    <g id=\"text_8\">\n     <!-- I -->\n     <defs>\n      <path d=\"M 9.8125 72.90625 \nL 19.671875 72.90625 \nL 19.671875 0 \nL 9.8125 0 \nz\n\" id=\"DejaVuSans-73\"/>\n     </defs>\n     <g transform=\"translate(14.798438 121.194219)rotate(-90)scale(0.1 -0.1)\">\n      <use xlink:href=\"#DejaVuSans-73\"/>\n     </g>\n    </g>\n   </g>\n   <g id=\"patch_3\">\n    <path d=\"M 43.78125 228.439219 \nL 43.78125 10.999219 \n\" style=\"fill:none;stroke:#000000;stroke-linecap:square;stroke-linejoin:miter;stroke-width:0.8;\"/>\n   </g>\n   <g id=\"patch_4\">\n    <path d=\"M 311.62125 228.439219 \nL 311.62125 10.999219 \n\" style=\"fill:none;stroke:#000000;stroke-linecap:square;stroke-linejoin:miter;stroke-width:0.8;\"/>\n   </g>\n   <g id=\"patch_5\">\n    <path d=\"M 43.78125 228.439219 \nL 311.62125 228.439219 \n\" style=\"fill:none;stroke:#000000;stroke-linecap:square;stroke-linejoin:miter;stroke-width:0.8;\"/>\n   </g>\n   <g id=\"patch_6\">\n    <path d=\"M 43.78125 10.999219 \nL 311.62125 10.999219 \n\" style=\"fill:none;stroke:#000000;stroke-linecap:square;stroke-linejoin:miter;stroke-width:0.8;\"/>\n   </g>\n  </g>\n  <g id=\"axes_2\">\n   <g id=\"patch_7\">\n    <path clip-path=\"url(#p75df2c0536)\" d=\"M 328.36125 228.439219 \nL 328.36125 227.589844 \nL 328.36125 11.848594 \nL 328.36125 10.999219 \nL 339.23325 10.999219 \nL 339.23325 11.848594 \nL 339.23325 227.589844 \nL 339.23325 228.439219 \nz\n\" style=\"fill:#ffffff;stroke:#ffffff;stroke-linejoin:miter;stroke-width:0.01;\"/>\n   </g>\n   <image height=\"218\" id=\"image7af974eb89\" transform=\"scale(1 -1)translate(0 -218)\" width=\"11\" x=\"328\" xlink:href=\"data:image/png;base64,\niVBORw0KGgoAAAANSUhEUgAAAAsAAADaCAYAAABwzrisAAAABHNCSVQICAgIfAhkiAAAAVZJREFUaIHtmkGOwkAMBMf2ZF/GG/j/Q4Bw3pvrUJJHgrPValf3BEgSj3zeq/nZkdGdXXtF9oc95UWUo4rYIJ6TeGbKMxYcQgMNl2fDquiJNG7Wjfas2bopnj3OpSn3Z+mCGuebnUFgwysSUhbRsbjJMAkF2TiRBlxQ6zNDR5RnXDeGJHhkN7xLgVbRIaFModGfVT3PoDHE84nlH4Lut+A/5eyf7zPRsdMt0QAm5sTtJYg4w2udpQx+XZoLepxD82wqk+H8WMoz0KUWN6Jh2gDDRS4FjPM6D12R8iMbkIbV5z1jQabs0QiNhqescb7yrdmwaBSxscmCxULxFrSUr0A0kA0wjBJEymzBGQkyzgTdFS9iw6so6gZCp9FAC5JQUNzopMAFre8UlqBm449VtD1LPfeF1wbPmdcu8H9pX+QZUBJlZIMpE897gdd1irxzkuAmFbqd9QUoCIBqMoUuSwAAAABJRU5ErkJggg==\" y=\"-10\"/>\n   <g id=\"matplotlib.axis_3\"/>\n   <g id=\"matplotlib.axis_4\">\n    <g id=\"ytick_8\">\n     <g id=\"line2d_14\">\n      <defs>\n       <path d=\"M 0 0 \nL 3.5 0 \n\" id=\"m4034c888d0\" style=\"stroke:#000000;stroke-width:0.8;\"/>\n      </defs>\n      <g>\n       <use style=\"stroke:#000000;stroke-width:0.8;\" x=\"339.23325\" xlink:href=\"#m4034c888d0\" y=\"228.439219\"/>\n      </g>\n     </g>\n     <g id=\"text_9\">\n      <!-- 11.7 -->\n      <defs>\n       <path d=\"M 8.203125 72.90625 \nL 55.078125 72.90625 \nL 55.078125 68.703125 \nL 28.609375 0 \nL 18.3125 0 \nL 43.21875 64.59375 \nL 8.203125 64.59375 \nz\n\" id=\"DejaVuSans-55\"/>\n      </defs>\n      <g transform=\"translate(346.23325 232.238437)scale(0.1 -0.1)\">\n       <use xlink:href=\"#DejaVuSans-49\"/>\n       <use x=\"63.623047\" xlink:href=\"#DejaVuSans-49\"/>\n       <use x=\"127.246094\" xlink:href=\"#DejaVuSans-46\"/>\n       <use x=\"159.033203\" xlink:href=\"#DejaVuSans-55\"/>\n      </g>\n     </g>\n    </g>\n    <g id=\"ytick_9\">\n     <g id=\"line2d_15\">\n      <g>\n       <use style=\"stroke:#000000;stroke-width:0.8;\" x=\"339.23325\" xlink:href=\"#m4034c888d0\" y=\"192.199219\"/>\n      </g>\n     </g>\n     <g id=\"text_10\">\n      <!-- 11.8 -->\n      <defs>\n       <path d=\"M 31.78125 34.625 \nQ 24.75 34.625 20.71875 30.859375 \nQ 16.703125 27.09375 16.703125 20.515625 \nQ 16.703125 13.921875 20.71875 10.15625 \nQ 24.75 6.390625 31.78125 6.390625 \nQ 38.8125 6.390625 42.859375 10.171875 \nQ 46.921875 13.96875 46.921875 20.515625 \nQ 46.921875 27.09375 42.890625 30.859375 \nQ 38.875 34.625 31.78125 34.625 \nz\nM 21.921875 38.8125 \nQ 15.578125 40.375 12.03125 44.71875 \nQ 8.5 49.078125 8.5 55.328125 \nQ 8.5 64.0625 14.71875 69.140625 \nQ 20.953125 74.21875 31.78125 74.21875 \nQ 42.671875 74.21875 48.875 69.140625 \nQ 55.078125 64.0625 55.078125 55.328125 \nQ 55.078125 49.078125 51.53125 44.71875 \nQ 48 40.375 41.703125 38.8125 \nQ 48.828125 37.15625 52.796875 32.3125 \nQ 56.78125 27.484375 56.78125 20.515625 \nQ 56.78125 9.90625 50.3125 4.234375 \nQ 43.84375 -1.421875 31.78125 -1.421875 \nQ 19.734375 -1.421875 13.25 4.234375 \nQ 6.78125 9.90625 6.78125 20.515625 \nQ 6.78125 27.484375 10.78125 32.3125 \nQ 14.796875 37.15625 21.921875 38.8125 \nz\nM 18.3125 54.390625 \nQ 18.3125 48.734375 21.84375 45.5625 \nQ 25.390625 42.390625 31.78125 42.390625 \nQ 38.140625 42.390625 41.71875 45.5625 \nQ 45.3125 48.734375 45.3125 54.390625 \nQ 45.3125 60.0625 41.71875 63.234375 \nQ 38.140625 66.40625 31.78125 66.40625 \nQ 25.390625 66.40625 21.84375 63.234375 \nQ 18.3125 60.0625 18.3125 54.390625 \nz\n\" id=\"DejaVuSans-56\"/>\n      </defs>\n      <g transform=\"translate(346.23325 195.998437)scale(0.1 -0.1)\">\n       <use xlink:href=\"#DejaVuSans-49\"/>\n       <use x=\"63.623047\" xlink:href=\"#DejaVuSans-49\"/>\n       <use x=\"127.246094\" xlink:href=\"#DejaVuSans-46\"/>\n       <use x=\"159.033203\" xlink:href=\"#DejaVuSans-56\"/>\n      </g>\n     </g>\n    </g>\n    <g id=\"ytick_10\">\n     <g id=\"line2d_16\">\n      <g>\n       <use style=\"stroke:#000000;stroke-width:0.8;\" x=\"339.23325\" xlink:href=\"#m4034c888d0\" y=\"155.959219\"/>\n      </g>\n     </g>\n     <g id=\"text_11\">\n      <!-- 11.9 -->\n      <defs>\n       <path d=\"M 10.984375 1.515625 \nL 10.984375 10.5 \nQ 14.703125 8.734375 18.5 7.8125 \nQ 22.3125 6.890625 25.984375 6.890625 \nQ 35.75 6.890625 40.890625 13.453125 \nQ 46.046875 20.015625 46.78125 33.40625 \nQ 43.953125 29.203125 39.59375 26.953125 \nQ 35.25 24.703125 29.984375 24.703125 \nQ 19.046875 24.703125 12.671875 31.3125 \nQ 6.296875 37.9375 6.296875 49.421875 \nQ 6.296875 60.640625 12.9375 67.421875 \nQ 19.578125 74.21875 30.609375 74.21875 \nQ 43.265625 74.21875 49.921875 64.515625 \nQ 56.59375 54.828125 56.59375 36.375 \nQ 56.59375 19.140625 48.40625 8.859375 \nQ 40.234375 -1.421875 26.421875 -1.421875 \nQ 22.703125 -1.421875 18.890625 -0.6875 \nQ 15.09375 0.046875 10.984375 1.515625 \nz\nM 30.609375 32.421875 \nQ 37.25 32.421875 41.125 36.953125 \nQ 45.015625 41.5 45.015625 49.421875 \nQ 45.015625 57.28125 41.125 61.84375 \nQ 37.25 66.40625 30.609375 66.40625 \nQ 23.96875 66.40625 20.09375 61.84375 \nQ 16.21875 57.28125 16.21875 49.421875 \nQ 16.21875 41.5 20.09375 36.953125 \nQ 23.96875 32.421875 30.609375 32.421875 \nz\n\" id=\"DejaVuSans-57\"/>\n      </defs>\n      <g transform=\"translate(346.23325 159.758437)scale(0.1 -0.1)\">\n       <use xlink:href=\"#DejaVuSans-49\"/>\n       <use x=\"63.623047\" xlink:href=\"#DejaVuSans-49\"/>\n       <use x=\"127.246094\" xlink:href=\"#DejaVuSans-46\"/>\n       <use x=\"159.033203\" xlink:href=\"#DejaVuSans-57\"/>\n      </g>\n     </g>\n    </g>\n    <g id=\"ytick_11\">\n     <g id=\"line2d_17\">\n      <g>\n       <use style=\"stroke:#000000;stroke-width:0.8;\" x=\"339.23325\" xlink:href=\"#m4034c888d0\" y=\"119.719219\"/>\n      </g>\n     </g>\n     <g id=\"text_12\">\n      <!-- 12.0 -->\n      <g transform=\"translate(346.23325 123.518437)scale(0.1 -0.1)\">\n       <use xlink:href=\"#DejaVuSans-49\"/>\n       <use x=\"63.623047\" xlink:href=\"#DejaVuSans-50\"/>\n       <use x=\"127.246094\" xlink:href=\"#DejaVuSans-46\"/>\n       <use x=\"159.033203\" xlink:href=\"#DejaVuSans-48\"/>\n      </g>\n     </g>\n    </g>\n    <g id=\"ytick_12\">\n     <g id=\"line2d_18\">\n      <g>\n       <use style=\"stroke:#000000;stroke-width:0.8;\" x=\"339.23325\" xlink:href=\"#m4034c888d0\" y=\"83.479219\"/>\n      </g>\n     </g>\n     <g id=\"text_13\">\n      <!-- 12.1 -->\n      <g transform=\"translate(346.23325 87.278437)scale(0.1 -0.1)\">\n       <use xlink:href=\"#DejaVuSans-49\"/>\n       <use x=\"63.623047\" xlink:href=\"#DejaVuSans-50\"/>\n       <use x=\"127.246094\" xlink:href=\"#DejaVuSans-46\"/>\n       <use x=\"159.033203\" xlink:href=\"#DejaVuSans-49\"/>\n      </g>\n     </g>\n    </g>\n    <g id=\"ytick_13\">\n     <g id=\"line2d_19\">\n      <g>\n       <use style=\"stroke:#000000;stroke-width:0.8;\" x=\"339.23325\" xlink:href=\"#m4034c888d0\" y=\"47.239219\"/>\n      </g>\n     </g>\n     <g id=\"text_14\">\n      <!-- 12.2 -->\n      <g transform=\"translate(346.23325 51.038437)scale(0.1 -0.1)\">\n       <use xlink:href=\"#DejaVuSans-49\"/>\n       <use x=\"63.623047\" xlink:href=\"#DejaVuSans-50\"/>\n       <use x=\"127.246094\" xlink:href=\"#DejaVuSans-46\"/>\n       <use x=\"159.033203\" xlink:href=\"#DejaVuSans-50\"/>\n      </g>\n     </g>\n    </g>\n    <g id=\"ytick_14\">\n     <g id=\"line2d_20\">\n      <g>\n       <use style=\"stroke:#000000;stroke-width:0.8;\" x=\"339.23325\" xlink:href=\"#m4034c888d0\" y=\"10.999219\"/>\n      </g>\n     </g>\n     <g id=\"text_15\">\n      <!-- 12.3 -->\n      <g transform=\"translate(346.23325 14.798438)scale(0.1 -0.1)\">\n       <use xlink:href=\"#DejaVuSans-49\"/>\n       <use x=\"63.623047\" xlink:href=\"#DejaVuSans-50\"/>\n       <use x=\"127.246094\" xlink:href=\"#DejaVuSans-46\"/>\n       <use x=\"159.033203\" xlink:href=\"#DejaVuSans-51\"/>\n      </g>\n     </g>\n    </g>\n    <g id=\"text_16\">\n     <!-- V -->\n     <defs>\n      <path d=\"M 28.609375 0 \nL 0.78125 72.90625 \nL 11.078125 72.90625 \nL 34.1875 11.53125 \nL 57.328125 72.90625 \nL 67.578125 72.90625 \nL 39.796875 0 \nz\n\" id=\"DejaVuSans-86\"/>\n     </defs>\n     <g transform=\"translate(380.097313 123.139531)rotate(-90)scale(0.1 -0.1)\">\n      <use xlink:href=\"#DejaVuSans-86\"/>\n     </g>\n    </g>\n   </g>\n   <g id=\"patch_8\">\n    <path d=\"M 328.36125 228.439219 \nL 328.36125 227.589844 \nL 328.36125 11.848594 \nL 328.36125 10.999219 \nL 339.23325 10.999219 \nL 339.23325 11.848594 \nL 339.23325 227.589844 \nL 339.23325 228.439219 \nz\n\" style=\"fill:none;stroke:#000000;stroke-linejoin:miter;stroke-width:0.8;\"/>\n   </g>\n  </g>\n </g>\n <defs>\n  <clipPath id=\"pb35dd45225\">\n   <rect height=\"217.44\" width=\"267.84\" x=\"43.78125\" y=\"10.999219\"/>\n  </clipPath>\n  <clipPath id=\"p75df2c0536\">\n   <rect height=\"217.44\" width=\"10.872\" x=\"328.36125\" y=\"10.999219\"/>\n  </clipPath>\n </defs>\n</svg>\n",
      "image/png": "[encoded data removed]"
     },
     "metadata": {
      "needs_background": "light"
     }
    }
   ],
   "source": [
    "voltages.plot.scatter(x = 'w', y ='I', c = 'V',colormap='viridis')"
   ]
  },
  {
   "cell_type": "code",
   "execution_count": 28,
   "metadata": {},
   "outputs": [],
   "source": [
    "arr = np.polyfit(x = voltages['w'], y = voltages['I'], deg = 4, rcond=None, full=False, w=None, cov=False)\n",
    "arr *= 12"
   ]
  },
  {
   "cell_type": "code",
   "execution_count": 29,
   "metadata": {},
   "outputs": [
    {
     "output_type": "execute_result",
     "data": {
      "text/plain": [
       "array([-1.12440383e-11,  2.61252127e-07,  2.69216676e-05,  6.28905764e-03,\n",
       "        2.67826168e+00])"
      ]
     },
     "metadata": {},
     "execution_count": 29
    }
   ],
   "source": [
    "arr"
   ]
  },
  {
   "cell_type": "code",
   "execution_count": null,
   "metadata": {},
   "outputs": [],
   "source": []
  },
  {
   "cell_type": "code",
   "execution_count": 15,
   "metadata": {},
   "outputs": [],
   "source": [
    "from numpy import linalg, zeros, ones, hstack, asarray\n",
    "import itertools\n",
    "\n",
    "def basis_vector(n, i):\n",
    "    \"\"\" Return an array like [0, 0, ..., 1, ..., 0, 0]\n",
    "\n",
    "    >>> from multipolyfit.core import basis_vector\n",
    "    >>> basis_vector(3, 1)\n",
    "    array([0, 1, 0])\n",
    "    >>> basis_vector(5, 4)\n",
    "    array([0, 0, 0, 0, 1])\n",
    "    \"\"\"\n",
    "    x = zeros(n, dtype=int)\n",
    "    x[i] = 1\n",
    "    return x\n",
    "\n",
    "def as_tall(x):\n",
    "    \"\"\" Turns a row vector into a column vector \"\"\"\n",
    "    return x.reshape(x.shape + (1,))\n",
    "\n",
    "def multipolyfit(xs, y, deg, full=False, model_out=False, powers_out=False):\n",
    "    \"\"\"\n",
    "    Least squares multivariate polynomial fit\n",
    "\n",
    "    Fit a polynomial like ``y = a**2 + 3a - 2ab + 4b**2 - 1``\n",
    "    with many covariates a, b, c, ...\n",
    "\n",
    "    Parameters\n",
    "    ----------\n",
    "\n",
    "    xs : array_like, shape (M, k)\n",
    "         x-coordinates of the k covariates over the M sample points\n",
    "    y :  array_like, shape(M,)\n",
    "         y-coordinates of the sample points.\n",
    "    deg : int\n",
    "         Degree o fthe fitting polynomial\n",
    "    model_out : bool (defaults to True)\n",
    "         If True return a callable function\n",
    "         If False return an array of coefficients\n",
    "    powers_out : bool (defaults to False)\n",
    "         Returns the meaning of each of the coefficients in the form of an\n",
    "         iterator that gives the powers over the inputs and 1\n",
    "         For example if xs corresponds to the covariates a,b,c then the array\n",
    "         [1, 2, 1, 0] corresponds to 1**1 * a**2 * b**1 * c**0\n",
    "\n",
    "    See Also\n",
    "    --------\n",
    "        numpy.polyfit\n",
    "\n",
    "    \"\"\"\n",
    "    y = asarray(y).squeeze()\n",
    "    rows = y.shape[0]\n",
    "    xs = asarray(xs)\n",
    "    num_covariates = xs.shape[1]\n",
    "    xs = hstack((ones((xs.shape[0], 1), dtype=xs.dtype) , xs))\n",
    "\n",
    "    generators = [basis_vector(num_covariates+1, i)\n",
    "                            for i in range(num_covariates+1)]\n",
    "\n",
    "    # All combinations of degrees\n",
    "    powers = map(sum, itertools.combinations_with_replacement(generators, deg))\n",
    "\n",
    "    # Raise data to specified degree pattern, stack in order\n",
    "    A = hstack(asarray([as_tall((xs**p).prod(1)) for p in powers]))\n",
    "\n",
    "    beta = linalg.lstsq(A, y)[0]\n",
    "\n",
    "    if model_out:\n",
    "        return mk_model(beta, powers)\n",
    "\n",
    "    if powers_out:\n",
    "        return beta, powers\n",
    "    return beta\n",
    "\n",
    "def mk_model(beta, powers):\n",
    "    \"\"\" Create a callable python function out of beta/powers from multipolyfit\n",
    "\n",
    "    This function is callable from within multipolyfit using the model_out flag\n",
    "    \"\"\"\n",
    "    # Create a function that takes in many x values\n",
    "    # and returns an approximate y value\n",
    "    def model(*args):\n",
    "        num_covariates = len(powers[0]) - 1\n",
    "        if len(args)!=(num_covariates):\n",
    "            raise ValueError(\"Expected %d inputs\"%num_covariates)\n",
    "        xs = asarray((1,) + args)\n",
    "        return sum([coeff * (xs**p).prod()\n",
    "                             for p, coeff in zip(powers, beta)])\n",
    "    return model\n",
    "\n",
    "def mk_sympy_function(beta, powers):\n",
    "    from sympy import symbols, Add, Mul, S\n",
    "    num_covariates = len(powers[0]) - 1\n",
    "    xs = (S.One,) + symbols('x0:%d'%num_covariates)\n",
    "    return Add(*[coeff * Mul(*[x**deg for x, deg in zip(xs, power)])\n",
    "                        for power, coeff in zip(powers, beta)])\n"
   ]
  },
  {
   "cell_type": "code",
   "execution_count": null,
   "metadata": {},
   "outputs": [],
   "source": []
  }
 ]
}